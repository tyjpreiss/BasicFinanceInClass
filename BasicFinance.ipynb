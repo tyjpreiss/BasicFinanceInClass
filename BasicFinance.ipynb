{
 "cells": [
  {
   "cell_type": "markdown",
   "id": "ddb87a59",
   "metadata": {},
   "source": [
    "# Basic Finance\n",
    "## Ty Preiss"
   ]
  },
  {
   "cell_type": "code",
   "execution_count": 1,
   "id": "035f2166",
   "metadata": {},
   "outputs": [],
   "source": [
    "from pandas_datareader import data, wb\n",
    "import pandas as pd\n",
    "import numpy as np\n",
    "import datetime\n",
    "import matplotlib.pyplot as plt\n",
    "%matplotlib inline"
   ]
  },
  {
   "cell_type": "markdown",
   "id": "0f550763",
   "metadata": {},
   "source": [
    "# Question 1"
   ]
  },
  {
   "cell_type": "code",
   "execution_count": 3,
   "id": "9888299d",
   "metadata": {},
   "outputs": [],
   "source": [
    "Walmart = data.DataReader(\"WMT\", 'yahoo', start, end)\n",
    "Target = data.DataReader(\"TGT\", 'yahoo', start, end)"
   ]
  },
  {
   "cell_type": "markdown",
   "id": "8213ce28",
   "metadata": {},
   "source": [
    "Here I am importing the data."
   ]
  },
  {
   "cell_type": "markdown",
   "id": "032e2239",
   "metadata": {},
   "source": [
    "# Question 2"
   ]
  },
  {
   "cell_type": "code",
   "execution_count": 7,
   "id": "1134fe77",
   "metadata": {},
   "outputs": [],
   "source": [
    "start = datetime.datetime(2021, 1, 1)\n",
    "end = datetime.datetime(2021,12,31)"
   ]
  },
  {
   "cell_type": "code",
   "execution_count": 8,
   "id": "c13bfae8",
   "metadata": {},
   "outputs": [
    {
     "data": {
      "text/html": [
       "<div>\n",
       "<style scoped>\n",
       "    .dataframe tbody tr th:only-of-type {\n",
       "        vertical-align: middle;\n",
       "    }\n",
       "\n",
       "    .dataframe tbody tr th {\n",
       "        vertical-align: top;\n",
       "    }\n",
       "\n",
       "    .dataframe thead th {\n",
       "        text-align: right;\n",
       "    }\n",
       "</style>\n",
       "<table border=\"1\" class=\"dataframe\">\n",
       "  <thead>\n",
       "    <tr style=\"text-align: right;\">\n",
       "      <th></th>\n",
       "      <th>High</th>\n",
       "      <th>Low</th>\n",
       "      <th>Open</th>\n",
       "      <th>Close</th>\n",
       "      <th>Volume</th>\n",
       "      <th>Adj Close</th>\n",
       "    </tr>\n",
       "    <tr>\n",
       "      <th>Date</th>\n",
       "      <th></th>\n",
       "      <th></th>\n",
       "      <th></th>\n",
       "      <th></th>\n",
       "      <th></th>\n",
       "      <th></th>\n",
       "    </tr>\n",
       "  </thead>\n",
       "  <tbody>\n",
       "    <tr>\n",
       "      <th>2021-01-04</th>\n",
       "      <td>146.889999</td>\n",
       "      <td>144.279999</td>\n",
       "      <td>144.300003</td>\n",
       "      <td>146.529999</td>\n",
       "      <td>10727400.0</td>\n",
       "      <td>144.236282</td>\n",
       "    </tr>\n",
       "    <tr>\n",
       "      <th>2021-01-05</th>\n",
       "      <td>147.070007</td>\n",
       "      <td>144.490005</td>\n",
       "      <td>146.600006</td>\n",
       "      <td>145.750000</td>\n",
       "      <td>8832700.0</td>\n",
       "      <td>143.468475</td>\n",
       "    </tr>\n",
       "    <tr>\n",
       "      <th>2021-01-06</th>\n",
       "      <td>148.100006</td>\n",
       "      <td>145.009995</td>\n",
       "      <td>145.089996</td>\n",
       "      <td>146.660004</td>\n",
       "      <td>7306300.0</td>\n",
       "      <td>144.364258</td>\n",
       "    </tr>\n",
       "    <tr>\n",
       "      <th>2021-01-07</th>\n",
       "      <td>147.759995</td>\n",
       "      <td>146.039993</td>\n",
       "      <td>147.619995</td>\n",
       "      <td>146.649994</td>\n",
       "      <td>6846000.0</td>\n",
       "      <td>144.354401</td>\n",
       "    </tr>\n",
       "    <tr>\n",
       "      <th>2021-01-08</th>\n",
       "      <td>147.000000</td>\n",
       "      <td>145.809998</td>\n",
       "      <td>146.880005</td>\n",
       "      <td>146.630005</td>\n",
       "      <td>8159400.0</td>\n",
       "      <td>144.334717</td>\n",
       "    </tr>\n",
       "  </tbody>\n",
       "</table>\n",
       "</div>"
      ],
      "text/plain": [
       "                  High         Low        Open       Close      Volume  \\\n",
       "Date                                                                     \n",
       "2021-01-04  146.889999  144.279999  144.300003  146.529999  10727400.0   \n",
       "2021-01-05  147.070007  144.490005  146.600006  145.750000   8832700.0   \n",
       "2021-01-06  148.100006  145.009995  145.089996  146.660004   7306300.0   \n",
       "2021-01-07  147.759995  146.039993  147.619995  146.649994   6846000.0   \n",
       "2021-01-08  147.000000  145.809998  146.880005  146.630005   8159400.0   \n",
       "\n",
       "             Adj Close  \n",
       "Date                    \n",
       "2021-01-04  144.236282  \n",
       "2021-01-05  143.468475  \n",
       "2021-01-06  144.364258  \n",
       "2021-01-07  144.354401  \n",
       "2021-01-08  144.334717  "
      ]
     },
     "execution_count": 8,
     "metadata": {},
     "output_type": "execute_result"
    }
   ],
   "source": [
    "Walmart.head()"
   ]
  },
  {
   "cell_type": "code",
   "execution_count": 9,
   "id": "71892f31",
   "metadata": {},
   "outputs": [
    {
     "data": {
      "text/html": [
       "<div>\n",
       "<style scoped>\n",
       "    .dataframe tbody tr th:only-of-type {\n",
       "        vertical-align: middle;\n",
       "    }\n",
       "\n",
       "    .dataframe tbody tr th {\n",
       "        vertical-align: top;\n",
       "    }\n",
       "\n",
       "    .dataframe thead th {\n",
       "        text-align: right;\n",
       "    }\n",
       "</style>\n",
       "<table border=\"1\" class=\"dataframe\">\n",
       "  <thead>\n",
       "    <tr style=\"text-align: right;\">\n",
       "      <th></th>\n",
       "      <th>High</th>\n",
       "      <th>Low</th>\n",
       "      <th>Open</th>\n",
       "      <th>Close</th>\n",
       "      <th>Volume</th>\n",
       "      <th>Adj Close</th>\n",
       "    </tr>\n",
       "    <tr>\n",
       "      <th>Date</th>\n",
       "      <th></th>\n",
       "      <th></th>\n",
       "      <th></th>\n",
       "      <th></th>\n",
       "      <th></th>\n",
       "      <th></th>\n",
       "    </tr>\n",
       "  </thead>\n",
       "  <tbody>\n",
       "    <tr>\n",
       "      <th>2021-01-04</th>\n",
       "      <td>178.089996</td>\n",
       "      <td>174.119995</td>\n",
       "      <td>176.509995</td>\n",
       "      <td>177.630005</td>\n",
       "      <td>3463100.0</td>\n",
       "      <td>174.467789</td>\n",
       "    </tr>\n",
       "    <tr>\n",
       "      <th>2021-01-05</th>\n",
       "      <td>181.970001</td>\n",
       "      <td>176.429993</td>\n",
       "      <td>176.800003</td>\n",
       "      <td>180.369995</td>\n",
       "      <td>4843300.0</td>\n",
       "      <td>177.159012</td>\n",
       "    </tr>\n",
       "    <tr>\n",
       "      <th>2021-01-06</th>\n",
       "      <td>189.470001</td>\n",
       "      <td>180.110001</td>\n",
       "      <td>180.330002</td>\n",
       "      <td>188.919998</td>\n",
       "      <td>5610100.0</td>\n",
       "      <td>185.556808</td>\n",
       "    </tr>\n",
       "    <tr>\n",
       "      <th>2021-01-07</th>\n",
       "      <td>192.350006</td>\n",
       "      <td>189.169998</td>\n",
       "      <td>189.210007</td>\n",
       "      <td>191.100006</td>\n",
       "      <td>4226700.0</td>\n",
       "      <td>187.697998</td>\n",
       "    </tr>\n",
       "    <tr>\n",
       "      <th>2021-01-08</th>\n",
       "      <td>193.880005</td>\n",
       "      <td>190.809998</td>\n",
       "      <td>191.580002</td>\n",
       "      <td>193.600006</td>\n",
       "      <td>3321500.0</td>\n",
       "      <td>190.153488</td>\n",
       "    </tr>\n",
       "  </tbody>\n",
       "</table>\n",
       "</div>"
      ],
      "text/plain": [
       "                  High         Low        Open       Close     Volume  \\\n",
       "Date                                                                    \n",
       "2021-01-04  178.089996  174.119995  176.509995  177.630005  3463100.0   \n",
       "2021-01-05  181.970001  176.429993  176.800003  180.369995  4843300.0   \n",
       "2021-01-06  189.470001  180.110001  180.330002  188.919998  5610100.0   \n",
       "2021-01-07  192.350006  189.169998  189.210007  191.100006  4226700.0   \n",
       "2021-01-08  193.880005  190.809998  191.580002  193.600006  3321500.0   \n",
       "\n",
       "             Adj Close  \n",
       "Date                    \n",
       "2021-01-04  174.467789  \n",
       "2021-01-05  177.159012  \n",
       "2021-01-06  185.556808  \n",
       "2021-01-07  187.697998  \n",
       "2021-01-08  190.153488  "
      ]
     },
     "execution_count": 9,
     "metadata": {},
     "output_type": "execute_result"
    }
   ],
   "source": [
    "Target.head()"
   ]
  },
  {
   "cell_type": "markdown",
   "id": "af78c372",
   "metadata": {},
   "source": [
    "Here is the data from the 1st of January 2021 to the 31st of December 2021."
   ]
  },
  {
   "cell_type": "markdown",
   "id": "eb8dfc03",
   "metadata": {},
   "source": [
    "# Question 3"
   ]
  },
  {
   "cell_type": "code",
   "execution_count": 10,
   "id": "2f04a9a9",
   "metadata": {},
   "outputs": [],
   "source": [
    "Walmart['%-chg'] = Walmart['Close'].pct_change()\n",
    "Target['%-chg'] = Target['Close'].pct_change()"
   ]
  },
  {
   "cell_type": "code",
   "execution_count": 12,
   "id": "150a2de4",
   "metadata": {},
   "outputs": [],
   "source": [
    "Walmart['Log Returns'] = np.log(Walmart['Close']/Walmart['Close'].shift())\n",
    "Target['Log Returns'] = np.log(Target['Close']/Target['Close'].shift())"
   ]
  },
  {
   "cell_type": "code",
   "execution_count": 17,
   "id": "1863f13c",
   "metadata": {},
   "outputs": [
    {
     "data": {
      "text/html": [
       "<div>\n",
       "<style scoped>\n",
       "    .dataframe tbody tr th:only-of-type {\n",
       "        vertical-align: middle;\n",
       "    }\n",
       "\n",
       "    .dataframe tbody tr th {\n",
       "        vertical-align: top;\n",
       "    }\n",
       "\n",
       "    .dataframe thead th {\n",
       "        text-align: right;\n",
       "    }\n",
       "</style>\n",
       "<table border=\"1\" class=\"dataframe\">\n",
       "  <thead>\n",
       "    <tr style=\"text-align: right;\">\n",
       "      <th></th>\n",
       "      <th>High</th>\n",
       "      <th>Low</th>\n",
       "      <th>Open</th>\n",
       "      <th>Close</th>\n",
       "      <th>Volume</th>\n",
       "      <th>Adj Close</th>\n",
       "      <th>%-chg</th>\n",
       "      <th>Log Returns</th>\n",
       "    </tr>\n",
       "    <tr>\n",
       "      <th>Date</th>\n",
       "      <th></th>\n",
       "      <th></th>\n",
       "      <th></th>\n",
       "      <th></th>\n",
       "      <th></th>\n",
       "      <th></th>\n",
       "      <th></th>\n",
       "      <th></th>\n",
       "    </tr>\n",
       "  </thead>\n",
       "  <tbody>\n",
       "    <tr>\n",
       "      <th>2021-12-27</th>\n",
       "      <td>140.869995</td>\n",
       "      <td>139.570007</td>\n",
       "      <td>139.600006</td>\n",
       "      <td>140.759995</td>\n",
       "      <td>5346900.0</td>\n",
       "      <td>140.759995</td>\n",
       "      <td>0.009105</td>\n",
       "      <td>0.009063</td>\n",
       "    </tr>\n",
       "    <tr>\n",
       "      <th>2021-12-28</th>\n",
       "      <td>142.970001</td>\n",
       "      <td>140.600006</td>\n",
       "      <td>140.600006</td>\n",
       "      <td>142.779999</td>\n",
       "      <td>5261000.0</td>\n",
       "      <td>142.779999</td>\n",
       "      <td>0.014351</td>\n",
       "      <td>0.014249</td>\n",
       "    </tr>\n",
       "    <tr>\n",
       "      <th>2021-12-29</th>\n",
       "      <td>143.529999</td>\n",
       "      <td>142.320007</td>\n",
       "      <td>142.660004</td>\n",
       "      <td>142.710007</td>\n",
       "      <td>4348400.0</td>\n",
       "      <td>142.710007</td>\n",
       "      <td>-0.000490</td>\n",
       "      <td>-0.000490</td>\n",
       "    </tr>\n",
       "    <tr>\n",
       "      <th>2021-12-30</th>\n",
       "      <td>143.699997</td>\n",
       "      <td>142.479996</td>\n",
       "      <td>143.259995</td>\n",
       "      <td>143.169998</td>\n",
       "      <td>4983000.0</td>\n",
       "      <td>143.169998</td>\n",
       "      <td>0.003223</td>\n",
       "      <td>0.003218</td>\n",
       "    </tr>\n",
       "    <tr>\n",
       "      <th>2021-12-31</th>\n",
       "      <td>145.039993</td>\n",
       "      <td>142.919998</td>\n",
       "      <td>143.199997</td>\n",
       "      <td>144.690002</td>\n",
       "      <td>5982600.0</td>\n",
       "      <td>144.690002</td>\n",
       "      <td>0.010617</td>\n",
       "      <td>0.010561</td>\n",
       "    </tr>\n",
       "  </tbody>\n",
       "</table>\n",
       "</div>"
      ],
      "text/plain": [
       "                  High         Low        Open       Close     Volume  \\\n",
       "Date                                                                    \n",
       "2021-12-27  140.869995  139.570007  139.600006  140.759995  5346900.0   \n",
       "2021-12-28  142.970001  140.600006  140.600006  142.779999  5261000.0   \n",
       "2021-12-29  143.529999  142.320007  142.660004  142.710007  4348400.0   \n",
       "2021-12-30  143.699997  142.479996  143.259995  143.169998  4983000.0   \n",
       "2021-12-31  145.039993  142.919998  143.199997  144.690002  5982600.0   \n",
       "\n",
       "             Adj Close     %-chg  Log Returns  \n",
       "Date                                           \n",
       "2021-12-27  140.759995  0.009105     0.009063  \n",
       "2021-12-28  142.779999  0.014351     0.014249  \n",
       "2021-12-29  142.710007 -0.000490    -0.000490  \n",
       "2021-12-30  143.169998  0.003223     0.003218  \n",
       "2021-12-31  144.690002  0.010617     0.010561  "
      ]
     },
     "execution_count": 17,
     "metadata": {},
     "output_type": "execute_result"
    }
   ],
   "source": [
    "Walmart.tail()"
   ]
  },
  {
   "cell_type": "code",
   "execution_count": 16,
   "id": "45fdbb67",
   "metadata": {},
   "outputs": [
    {
     "data": {
      "text/html": [
       "<div>\n",
       "<style scoped>\n",
       "    .dataframe tbody tr th:only-of-type {\n",
       "        vertical-align: middle;\n",
       "    }\n",
       "\n",
       "    .dataframe tbody tr th {\n",
       "        vertical-align: top;\n",
       "    }\n",
       "\n",
       "    .dataframe thead th {\n",
       "        text-align: right;\n",
       "    }\n",
       "</style>\n",
       "<table border=\"1\" class=\"dataframe\">\n",
       "  <thead>\n",
       "    <tr style=\"text-align: right;\">\n",
       "      <th></th>\n",
       "      <th>High</th>\n",
       "      <th>Low</th>\n",
       "      <th>Open</th>\n",
       "      <th>Close</th>\n",
       "      <th>Volume</th>\n",
       "      <th>Adj Close</th>\n",
       "      <th>%-chg</th>\n",
       "      <th>Log Returns</th>\n",
       "    </tr>\n",
       "    <tr>\n",
       "      <th>Date</th>\n",
       "      <th></th>\n",
       "      <th></th>\n",
       "      <th></th>\n",
       "      <th></th>\n",
       "      <th></th>\n",
       "      <th></th>\n",
       "      <th></th>\n",
       "      <th></th>\n",
       "    </tr>\n",
       "  </thead>\n",
       "  <tbody>\n",
       "    <tr>\n",
       "      <th>2021-12-27</th>\n",
       "      <td>224.690002</td>\n",
       "      <td>220.860001</td>\n",
       "      <td>222.100006</td>\n",
       "      <td>224.100006</td>\n",
       "      <td>4335600.0</td>\n",
       "      <td>223.132996</td>\n",
       "      <td>0.013981</td>\n",
       "      <td>0.013884</td>\n",
       "    </tr>\n",
       "    <tr>\n",
       "      <th>2021-12-28</th>\n",
       "      <td>227.500000</td>\n",
       "      <td>223.639999</td>\n",
       "      <td>224.449997</td>\n",
       "      <td>224.910004</td>\n",
       "      <td>3202400.0</td>\n",
       "      <td>223.939499</td>\n",
       "      <td>0.003614</td>\n",
       "      <td>0.003608</td>\n",
       "    </tr>\n",
       "    <tr>\n",
       "      <th>2021-12-29</th>\n",
       "      <td>229.570007</td>\n",
       "      <td>225.369995</td>\n",
       "      <td>225.369995</td>\n",
       "      <td>227.919998</td>\n",
       "      <td>3065800.0</td>\n",
       "      <td>226.936508</td>\n",
       "      <td>0.013383</td>\n",
       "      <td>0.013294</td>\n",
       "    </tr>\n",
       "    <tr>\n",
       "      <th>2021-12-30</th>\n",
       "      <td>233.869995</td>\n",
       "      <td>228.800003</td>\n",
       "      <td>228.800003</td>\n",
       "      <td>231.910004</td>\n",
       "      <td>4007400.0</td>\n",
       "      <td>230.909286</td>\n",
       "      <td>0.017506</td>\n",
       "      <td>0.017355</td>\n",
       "    </tr>\n",
       "    <tr>\n",
       "      <th>2021-12-31</th>\n",
       "      <td>233.619995</td>\n",
       "      <td>229.220001</td>\n",
       "      <td>232.770004</td>\n",
       "      <td>231.440002</td>\n",
       "      <td>2485100.0</td>\n",
       "      <td>230.441315</td>\n",
       "      <td>-0.002027</td>\n",
       "      <td>-0.002029</td>\n",
       "    </tr>\n",
       "  </tbody>\n",
       "</table>\n",
       "</div>"
      ],
      "text/plain": [
       "                  High         Low        Open       Close     Volume  \\\n",
       "Date                                                                    \n",
       "2021-12-27  224.690002  220.860001  222.100006  224.100006  4335600.0   \n",
       "2021-12-28  227.500000  223.639999  224.449997  224.910004  3202400.0   \n",
       "2021-12-29  229.570007  225.369995  225.369995  227.919998  3065800.0   \n",
       "2021-12-30  233.869995  228.800003  228.800003  231.910004  4007400.0   \n",
       "2021-12-31  233.619995  229.220001  232.770004  231.440002  2485100.0   \n",
       "\n",
       "             Adj Close     %-chg  Log Returns  \n",
       "Date                                           \n",
       "2021-12-27  223.132996  0.013981     0.013884  \n",
       "2021-12-28  223.939499  0.003614     0.003608  \n",
       "2021-12-29  226.936508  0.013383     0.013294  \n",
       "2021-12-30  230.909286  0.017506     0.017355  \n",
       "2021-12-31  230.441315 -0.002027    -0.002029  "
      ]
     },
     "execution_count": 16,
     "metadata": {},
     "output_type": "execute_result"
    }
   ],
   "source": [
    "Target.tail()"
   ]
  },
  {
   "cell_type": "markdown",
   "id": "8e294b13",
   "metadata": {},
   "source": [
    "Here we made the two new columns of %-chg and Log Returns at the end."
   ]
  },
  {
   "cell_type": "markdown",
   "id": "5846ae16",
   "metadata": {},
   "source": [
    "# Question 4"
   ]
  },
  {
   "cell_type": "code",
   "execution_count": 15,
   "id": "e318278b",
   "metadata": {},
   "outputs": [
    {
     "data": {
      "image/png": "[encoded data removed]",
      "text/plain": [
       "<Figure size 864x432 with 2 Axes>"
      ]
     },
     "metadata": {
      "needs_background": "light"
     },
     "output_type": "display_data"
    }
   ],
   "source": [
    "fig, ax = plt.subplots(2)\n",
    "Walmart['Volume'].loc['2021-01-01':].plot(ax=ax[0], title=\"Walmart Volume 2021\", figsize=(12,6))\n",
    "Target['Volume'].loc['2021-01-01':].plot(ax=ax[1], title=\"Target Volume 2021\", figsize=(12,6))\n",
    "\n",
    "fig.tight_layout()"
   ]
  },
  {
   "cell_type": "markdown",
   "id": "23561374",
   "metadata": {},
   "source": [
    "Walmart seems to have the highest overall volume because Target barely ever gets over 1.  Walmart and Targets highest point which is around the middle of February to early March."
   ]
  },
  {
   "cell_type": "markdown",
   "id": "01de9cd3",
   "metadata": {},
   "source": [
    "# Question 5"
   ]
  },
  {
   "cell_type": "code",
   "execution_count": 19,
   "id": "25b218ab",
   "metadata": {},
   "outputs": [
    {
     "data": {
      "image/png": "[encoded data removed]",
      "text/plain": [
       "<Figure size 864x288 with 2 Axes>"
      ]
     },
     "metadata": {
      "needs_background": "light"
     },
     "output_type": "display_data"
    }
   ],
   "source": [
    "fig, ax = plt.subplots(1,2)\n",
    "Walmart['Log Returns'].hist(ax=ax[0], bins=50, alpha=0.6, color='b', figsize=(12,4))\n",
    "ax[0].set_ylabel(\"Freq of log return\")\n",
    "ax[0].set_title(\"Walmart Returns \")\n",
    "\n",
    "Target['Log Returns'].hist(ax=ax[1], bins=50, alpha=0.6, color='b', figsize=(12,4))\n",
    "ax[1].set_ylabel(\"Freq of log return\")\n",
    "ax[1].set_title(\"Target Returns\")\n",
    "\n",
    "fig.tight_layout()"
   ]
  },
  {
   "cell_type": "markdown",
   "id": "d97b903d",
   "metadata": {},
   "source": [
    "Walmarts returns seem to be more normalized with less outliers unlike Target.  Target has many log return outliers on both the positive and negative side.  It looks like Walmart is more normal."
   ]
  },
  {
   "cell_type": "markdown",
   "id": "84fe4bb4",
   "metadata": {},
   "source": [
    "# Question 6"
   ]
  },
  {
   "cell_type": "code",
   "execution_count": 20,
   "id": "97ed9099",
   "metadata": {},
   "outputs": [
    {
     "data": {
      "text/plain": [
       "0.010566097093939207"
      ]
     },
     "execution_count": 20,
     "metadata": {},
     "output_type": "execute_result"
    }
   ],
   "source": [
    "Walmart['Log Returns'].std() #Here we built the standard deviation of Log Returns in Walmart and Target"
   ]
  },
  {
   "cell_type": "code",
   "execution_count": 21,
   "id": "5b7106e4",
   "metadata": {},
   "outputs": [
    {
     "data": {
      "text/plain": [
       "0.014964775897820567"
      ]
     },
     "execution_count": 21,
     "metadata": {},
     "output_type": "execute_result"
    }
   ],
   "source": [
    "Target['Log Returns'].std()"
   ]
  },
  {
   "cell_type": "code",
   "execution_count": 22,
   "id": "a60f03a8",
   "metadata": {},
   "outputs": [],
   "source": [
    "Walmart_volatility = Walmart['Log Returns'].std()*np.sqrt(252) #Now we are making the volatility of Walmart and Target"
   ]
  },
  {
   "cell_type": "code",
   "execution_count": 23,
   "id": "4f73a9bd",
   "metadata": {},
   "outputs": [
    {
     "data": {
      "text/plain": [
       "0.16773159143475252"
      ]
     },
     "execution_count": 23,
     "metadata": {},
     "output_type": "execute_result"
    }
   ],
   "source": [
    "Walmart_volatility"
   ]
  },
  {
   "cell_type": "code",
   "execution_count": 24,
   "id": "b83d403a",
   "metadata": {},
   "outputs": [],
   "source": [
    "Target_volatility = Target['Log Returns'].std()*np.sqrt(252)"
   ]
  },
  {
   "cell_type": "code",
   "execution_count": 25,
   "id": "3b5ac950",
   "metadata": {},
   "outputs": [
    {
     "data": {
      "text/plain": [
       "0.2375584527086793"
      ]
     },
     "execution_count": 25,
     "metadata": {},
     "output_type": "execute_result"
    }
   ],
   "source": [
    "Target_volatility"
   ]
  },
  {
   "cell_type": "markdown",
   "id": "4c5cb4ed",
   "metadata": {},
   "source": [
    "Target has a much higher volatility by around 7%. This means that Targets stock is more risky to get into, but it still is not as risky as Lyft or Uber."
   ]
  }
 ],
 "metadata": {
  "kernelspec": {
   "display_name": "Python 3 (ipykernel)",
   "language": "python",
   "name": "python3"
  },
  "language_info": {
   "codemirror_mode": {
    "name": "ipython",
    "version": 3
   },
   "file_extension": ".py",
   "mimetype": "text/x-python",
   "name": "python",
   "nbconvert_exporter": "python",
   "pygments_lexer": "ipython3",
   "version": "3.9.7"
  }
 },
 "nbformat": 4,
 "nbformat_minor": 5
}
